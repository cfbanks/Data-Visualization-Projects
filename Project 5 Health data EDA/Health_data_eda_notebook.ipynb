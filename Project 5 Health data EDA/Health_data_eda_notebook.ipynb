{
 "cells": [
  {
   "cell_type": "markdown",
   "metadata": {},
   "source": [
    "# Data 550 Project 1\n",
    "### Names: Connor Fairbanks, Graham Kerford\n",
    "\n"
   ]
  },
  {
   "cell_type": "markdown",
   "metadata": {},
   "source": [
    "### Description of the Data\n",
    "\n",
    "This dataset contains characteristics of a sample of medical insurance policy holders from the US population, including their yearly medical costs billed by their health insurance. This dataset is available from the site [Kaggle](https://www.kaggle.com/mirichoi0218/insurance/home), where it was stated that this dataset was used in the textbook [\"Machine Learning with R\" by Brett Lantz](https://www.amazon.com/Machine-Learning-R-Brett-Lantz/dp/1782162143). The textbook explained that the U.S. Census Bureau demographic statistics were used to create this simulated dataset. The details (including date, collection method, etc.) of the associated Census data was collected was not provided. This dataset was created for educational purposes (to allow students to practice manipulating/analyzing a dataset). The dataset contains the following characteristics for each individual:\n",
    "\n",
    "- `age`: The age of the policy holder (those above 64 years old were excluded as their medical insurance is generally provided by the government).\n",
    "\n",
    "- `sex`: The sex of the policy holder (`male` or `female`).\n",
    "\n",
    "- `bmi`: The body mass index of the policy holder. This is a numerical value that is meant to give an idea of a persons weight in relation to their height. BMI is equal to a person's weight (in kilograms) divided by their height (in meters) squared. BMI values are often interpreted based on the following ranges: \n",
    "    - underweight: < 18.5 kg/m$^2$ \n",
    "    - normal weight: 18.5 kg/m$^2$ - 24.9 kg/m$^2$\n",
    "    - overweight: 25 kg/m$^2$ - 29.9 kg/m$^2$\n",
    "    - obese: $\\geq$ 30 kg/m$^2$\n",
    "\n",
    "- `children`: The number of children/dependents covered by the insurance plan.\n",
    "\n",
    "- `smoker`: A `yes` or `no` answer to the question \"Does the policy holder regularly smoke tobacco?\"\n",
    "\n",
    "- `region`: The geographical region of the policy holder's place of residence in the United States. Possible regions include: `northeast`, `southeast`, `southwest`, `northwest`. \n",
    "\n",
    "- `charges`: The total medical expenses (in USD) of the policy holder billed by the health insurance company for the given year.  "
   ]
  },
  {
   "cell_type": "markdown",
   "metadata": {},
   "source": [
    "### Loading the Data"
   ]
  },
  {
   "cell_type": "code",
   "execution_count": 1,
   "metadata": {},
   "outputs": [
    {
     "data": {
      "text/plain": [
       "DataTransformerRegistry.enable('data_server')"
      ]
     },
     "execution_count": 1,
     "metadata": {},
     "output_type": "execute_result"
    }
   ],
   "source": [
    "#import necessary libraries\n",
    "import pandas as pd\n",
    "import altair as alt\n",
    "alt.data_transformers.disable_max_rows()\n",
    "\n",
    "# Save a vega-lite spec and a PNG blob for each plot in the notebook\n",
    "alt.renderers.enable('mimetype')\n",
    "# Handle large data sets without embedding them in the notebook\n",
    "alt.data_transformers.enable('data_server')"
   ]
  },
  {
   "cell_type": "code",
   "execution_count": 2,
   "metadata": {},
   "outputs": [],
   "source": [
    "# Importing the data\n",
    "data = pd.read_csv(\"medical_cost.csv\")"
   ]
  },
  {
   "cell_type": "markdown",
   "metadata": {},
   "source": [
    "## Exploring the dataset and Initial thoughts"
   ]
  },
  {
   "cell_type": "markdown",
   "metadata": {},
   "source": [
    "Display the first 5 rows of the dataframe to get an idea of what the data looks like. "
   ]
  },
  {
   "cell_type": "code",
   "execution_count": 3,
   "metadata": {},
   "outputs": [
    {
     "data": {
      "text/html": [
       "<div>\n",
       "<style scoped>\n",
       "    .dataframe tbody tr th:only-of-type {\n",
       "        vertical-align: middle;\n",
       "    }\n",
       "\n",
       "    .dataframe tbody tr th {\n",
       "        vertical-align: top;\n",
       "    }\n",
       "\n",
       "    .dataframe thead th {\n",
       "        text-align: right;\n",
       "    }\n",
       "</style>\n",
       "<table border=\"1\" class=\"dataframe\">\n",
       "  <thead>\n",
       "    <tr style=\"text-align: right;\">\n",
       "      <th></th>\n",
       "      <th>age</th>\n",
       "      <th>sex</th>\n",
       "      <th>bmi</th>\n",
       "      <th>children</th>\n",
       "      <th>smoker</th>\n",
       "      <th>region</th>\n",
       "      <th>charges</th>\n",
       "    </tr>\n",
       "  </thead>\n",
       "  <tbody>\n",
       "    <tr>\n",
       "      <th>0</th>\n",
       "      <td>19</td>\n",
       "      <td>female</td>\n",
       "      <td>27.900</td>\n",
       "      <td>0</td>\n",
       "      <td>yes</td>\n",
       "      <td>southwest</td>\n",
       "      <td>16884.92400</td>\n",
       "    </tr>\n",
       "    <tr>\n",
       "      <th>1</th>\n",
       "      <td>18</td>\n",
       "      <td>male</td>\n",
       "      <td>33.770</td>\n",
       "      <td>1</td>\n",
       "      <td>no</td>\n",
       "      <td>southeast</td>\n",
       "      <td>1725.55230</td>\n",
       "    </tr>\n",
       "    <tr>\n",
       "      <th>2</th>\n",
       "      <td>28</td>\n",
       "      <td>male</td>\n",
       "      <td>33.000</td>\n",
       "      <td>3</td>\n",
       "      <td>no</td>\n",
       "      <td>southeast</td>\n",
       "      <td>4449.46200</td>\n",
       "    </tr>\n",
       "    <tr>\n",
       "      <th>3</th>\n",
       "      <td>33</td>\n",
       "      <td>male</td>\n",
       "      <td>22.705</td>\n",
       "      <td>0</td>\n",
       "      <td>no</td>\n",
       "      <td>northwest</td>\n",
       "      <td>21984.47061</td>\n",
       "    </tr>\n",
       "    <tr>\n",
       "      <th>4</th>\n",
       "      <td>32</td>\n",
       "      <td>male</td>\n",
       "      <td>28.880</td>\n",
       "      <td>0</td>\n",
       "      <td>no</td>\n",
       "      <td>northwest</td>\n",
       "      <td>3866.85520</td>\n",
       "    </tr>\n",
       "  </tbody>\n",
       "</table>\n",
       "</div>"
      ],
      "text/plain": [
       "   age     sex     bmi  children smoker     region      charges\n",
       "0   19  female  27.900         0    yes  southwest  16884.92400\n",
       "1   18    male  33.770         1     no  southeast   1725.55230\n",
       "2   28    male  33.000         3     no  southeast   4449.46200\n",
       "3   33    male  22.705         0     no  northwest  21984.47061\n",
       "4   32    male  28.880         0     no  northwest   3866.85520"
      ]
     },
     "execution_count": 3,
     "metadata": {},
     "output_type": "execute_result"
    }
   ],
   "source": [
    "data.head()"
   ]
  },
  {
   "cell_type": "markdown",
   "metadata": {},
   "source": [
    "Display the data types and show that there are no 'null' values in our dataset. "
   ]
  },
  {
   "cell_type": "code",
   "execution_count": 4,
   "metadata": {},
   "outputs": [
    {
     "name": "stdout",
     "output_type": "stream",
     "text": [
      "<class 'pandas.core.frame.DataFrame'>\n",
      "RangeIndex: 1338 entries, 0 to 1337\n",
      "Data columns (total 7 columns):\n",
      " #   Column    Non-Null Count  Dtype  \n",
      "---  ------    --------------  -----  \n",
      " 0   age       1338 non-null   int64  \n",
      " 1   sex       1338 non-null   object \n",
      " 2   bmi       1338 non-null   float64\n",
      " 3   children  1338 non-null   int64  \n",
      " 4   smoker    1338 non-null   object \n",
      " 5   region    1338 non-null   object \n",
      " 6   charges   1338 non-null   float64\n",
      "dtypes: float64(2), int64(2), object(3)\n",
      "memory usage: 73.3+ KB\n"
     ]
    }
   ],
   "source": [
    "data.info()"
   ]
  },
  {
   "cell_type": "markdown",
   "metadata": {},
   "source": [
    "Show the summary statistics of the columns containing continuous data."
   ]
  },
  {
   "cell_type": "code",
   "execution_count": 5,
   "metadata": {},
   "outputs": [
    {
     "data": {
      "text/html": [
       "<div>\n",
       "<style scoped>\n",
       "    .dataframe tbody tr th:only-of-type {\n",
       "        vertical-align: middle;\n",
       "    }\n",
       "\n",
       "    .dataframe tbody tr th {\n",
       "        vertical-align: top;\n",
       "    }\n",
       "\n",
       "    .dataframe thead th {\n",
       "        text-align: right;\n",
       "    }\n",
       "</style>\n",
       "<table border=\"1\" class=\"dataframe\">\n",
       "  <thead>\n",
       "    <tr style=\"text-align: right;\">\n",
       "      <th></th>\n",
       "      <th>age</th>\n",
       "      <th>bmi</th>\n",
       "      <th>children</th>\n",
       "      <th>charges</th>\n",
       "    </tr>\n",
       "  </thead>\n",
       "  <tbody>\n",
       "    <tr>\n",
       "      <th>count</th>\n",
       "      <td>1338.000000</td>\n",
       "      <td>1338.000000</td>\n",
       "      <td>1338.000000</td>\n",
       "      <td>1338.000000</td>\n",
       "    </tr>\n",
       "    <tr>\n",
       "      <th>mean</th>\n",
       "      <td>39.207025</td>\n",
       "      <td>30.663397</td>\n",
       "      <td>1.094918</td>\n",
       "      <td>13270.422265</td>\n",
       "    </tr>\n",
       "    <tr>\n",
       "      <th>std</th>\n",
       "      <td>14.049960</td>\n",
       "      <td>6.098187</td>\n",
       "      <td>1.205493</td>\n",
       "      <td>12110.011237</td>\n",
       "    </tr>\n",
       "    <tr>\n",
       "      <th>min</th>\n",
       "      <td>18.000000</td>\n",
       "      <td>15.960000</td>\n",
       "      <td>0.000000</td>\n",
       "      <td>1121.873900</td>\n",
       "    </tr>\n",
       "    <tr>\n",
       "      <th>25%</th>\n",
       "      <td>27.000000</td>\n",
       "      <td>26.296250</td>\n",
       "      <td>0.000000</td>\n",
       "      <td>4740.287150</td>\n",
       "    </tr>\n",
       "    <tr>\n",
       "      <th>50%</th>\n",
       "      <td>39.000000</td>\n",
       "      <td>30.400000</td>\n",
       "      <td>1.000000</td>\n",
       "      <td>9382.033000</td>\n",
       "    </tr>\n",
       "    <tr>\n",
       "      <th>75%</th>\n",
       "      <td>51.000000</td>\n",
       "      <td>34.693750</td>\n",
       "      <td>2.000000</td>\n",
       "      <td>16639.912515</td>\n",
       "    </tr>\n",
       "    <tr>\n",
       "      <th>max</th>\n",
       "      <td>64.000000</td>\n",
       "      <td>53.130000</td>\n",
       "      <td>5.000000</td>\n",
       "      <td>63770.428010</td>\n",
       "    </tr>\n",
       "  </tbody>\n",
       "</table>\n",
       "</div>"
      ],
      "text/plain": [
       "               age          bmi     children       charges\n",
       "count  1338.000000  1338.000000  1338.000000   1338.000000\n",
       "mean     39.207025    30.663397     1.094918  13270.422265\n",
       "std      14.049960     6.098187     1.205493  12110.011237\n",
       "min      18.000000    15.960000     0.000000   1121.873900\n",
       "25%      27.000000    26.296250     0.000000   4740.287150\n",
       "50%      39.000000    30.400000     1.000000   9382.033000\n",
       "75%      51.000000    34.693750     2.000000  16639.912515\n",
       "max      64.000000    53.130000     5.000000  63770.428010"
      ]
     },
     "execution_count": 5,
     "metadata": {},
     "output_type": "execute_result"
    }
   ],
   "source": [
    "data.describe()"
   ]
  },
  {
   "cell_type": "markdown",
   "metadata": {},
   "source": [
    "We can also look at the correlation between the numerical data in the dataframe. We don't see any strong correlations between variables, but it is noteworthy that the two highest correlation values are between `age ` and `charges`, and between `bmi` and `charges`. This relationship will be explored in further detail later in this document. "
   ]
  },
  {
   "cell_type": "code",
   "execution_count": 6,
   "metadata": {},
   "outputs": [
    {
     "data": {
      "text/html": [
       "<div>\n",
       "<style scoped>\n",
       "    .dataframe tbody tr th:only-of-type {\n",
       "        vertical-align: middle;\n",
       "    }\n",
       "\n",
       "    .dataframe tbody tr th {\n",
       "        vertical-align: top;\n",
       "    }\n",
       "\n",
       "    .dataframe thead th {\n",
       "        text-align: right;\n",
       "    }\n",
       "</style>\n",
       "<table border=\"1\" class=\"dataframe\">\n",
       "  <thead>\n",
       "    <tr style=\"text-align: right;\">\n",
       "      <th></th>\n",
       "      <th>age</th>\n",
       "      <th>bmi</th>\n",
       "      <th>children</th>\n",
       "      <th>charges</th>\n",
       "    </tr>\n",
       "  </thead>\n",
       "  <tbody>\n",
       "    <tr>\n",
       "      <th>age</th>\n",
       "      <td>1.000000</td>\n",
       "      <td>0.109272</td>\n",
       "      <td>0.042469</td>\n",
       "      <td>0.299008</td>\n",
       "    </tr>\n",
       "    <tr>\n",
       "      <th>bmi</th>\n",
       "      <td>0.109272</td>\n",
       "      <td>1.000000</td>\n",
       "      <td>0.012759</td>\n",
       "      <td>0.198341</td>\n",
       "    </tr>\n",
       "    <tr>\n",
       "      <th>children</th>\n",
       "      <td>0.042469</td>\n",
       "      <td>0.012759</td>\n",
       "      <td>1.000000</td>\n",
       "      <td>0.067998</td>\n",
       "    </tr>\n",
       "    <tr>\n",
       "      <th>charges</th>\n",
       "      <td>0.299008</td>\n",
       "      <td>0.198341</td>\n",
       "      <td>0.067998</td>\n",
       "      <td>1.000000</td>\n",
       "    </tr>\n",
       "  </tbody>\n",
       "</table>\n",
       "</div>"
      ],
      "text/plain": [
       "               age       bmi  children   charges\n",
       "age       1.000000  0.109272  0.042469  0.299008\n",
       "bmi       0.109272  1.000000  0.012759  0.198341\n",
       "children  0.042469  0.012759  1.000000  0.067998\n",
       "charges   0.299008  0.198341  0.067998  1.000000"
      ]
     },
     "execution_count": 6,
     "metadata": {},
     "output_type": "execute_result"
    }
   ],
   "source": [
    "data.corr()"
   ]
  },
  {
   "cell_type": "markdown",
   "metadata": {},
   "source": [
    "Display the counts of data that fall into the different categorical data groups.\n",
    "First we will look at the different regions."
   ]
  },
  {
   "cell_type": "code",
   "execution_count": 7,
   "metadata": {},
   "outputs": [
    {
     "data": {
      "text/html": [
       "<div>\n",
       "<style scoped>\n",
       "    .dataframe tbody tr th:only-of-type {\n",
       "        vertical-align: middle;\n",
       "    }\n",
       "\n",
       "    .dataframe tbody tr th {\n",
       "        vertical-align: top;\n",
       "    }\n",
       "\n",
       "    .dataframe thead th {\n",
       "        text-align: right;\n",
       "    }\n",
       "</style>\n",
       "<table border=\"1\" class=\"dataframe\">\n",
       "  <thead>\n",
       "    <tr style=\"text-align: right;\">\n",
       "      <th></th>\n",
       "      <th>region</th>\n",
       "      <th>age</th>\n",
       "      <th>sex</th>\n",
       "      <th>bmi</th>\n",
       "      <th>children</th>\n",
       "      <th>smoker</th>\n",
       "      <th>charges</th>\n",
       "    </tr>\n",
       "  </thead>\n",
       "  <tbody>\n",
       "    <tr>\n",
       "      <th>0</th>\n",
       "      <td>northeast</td>\n",
       "      <td>324</td>\n",
       "      <td>324</td>\n",
       "      <td>324</td>\n",
       "      <td>324</td>\n",
       "      <td>324</td>\n",
       "      <td>324</td>\n",
       "    </tr>\n",
       "    <tr>\n",
       "      <th>1</th>\n",
       "      <td>northwest</td>\n",
       "      <td>325</td>\n",
       "      <td>325</td>\n",
       "      <td>325</td>\n",
       "      <td>325</td>\n",
       "      <td>325</td>\n",
       "      <td>325</td>\n",
       "    </tr>\n",
       "    <tr>\n",
       "      <th>2</th>\n",
       "      <td>southeast</td>\n",
       "      <td>364</td>\n",
       "      <td>364</td>\n",
       "      <td>364</td>\n",
       "      <td>364</td>\n",
       "      <td>364</td>\n",
       "      <td>364</td>\n",
       "    </tr>\n",
       "    <tr>\n",
       "      <th>3</th>\n",
       "      <td>southwest</td>\n",
       "      <td>325</td>\n",
       "      <td>325</td>\n",
       "      <td>325</td>\n",
       "      <td>325</td>\n",
       "      <td>325</td>\n",
       "      <td>325</td>\n",
       "    </tr>\n",
       "  </tbody>\n",
       "</table>\n",
       "</div>"
      ],
      "text/plain": [
       "      region  age  sex  bmi  children  smoker  charges\n",
       "0  northeast  324  324  324       324     324      324\n",
       "1  northwest  325  325  325       325     325      325\n",
       "2  southeast  364  364  364       364     364      364\n",
       "3  southwest  325  325  325       325     325      325"
      ]
     },
     "execution_count": 7,
     "metadata": {},
     "output_type": "execute_result"
    }
   ],
   "source": [
    "region_count_df = data.groupby('region').count().reset_index()\n",
    "region_count_df"
   ]
  },
  {
   "cell_type": "markdown",
   "metadata": {},
   "source": [
    "Next, we will see the number of smokers compared to non-smokers in the data."
   ]
  },
  {
   "cell_type": "code",
   "execution_count": 8,
   "metadata": {},
   "outputs": [
    {
     "data": {
      "text/html": [
       "<div>\n",
       "<style scoped>\n",
       "    .dataframe tbody tr th:only-of-type {\n",
       "        vertical-align: middle;\n",
       "    }\n",
       "\n",
       "    .dataframe tbody tr th {\n",
       "        vertical-align: top;\n",
       "    }\n",
       "\n",
       "    .dataframe thead th {\n",
       "        text-align: right;\n",
       "    }\n",
       "</style>\n",
       "<table border=\"1\" class=\"dataframe\">\n",
       "  <thead>\n",
       "    <tr style=\"text-align: right;\">\n",
       "      <th></th>\n",
       "      <th>smoker</th>\n",
       "      <th>age</th>\n",
       "      <th>sex</th>\n",
       "      <th>bmi</th>\n",
       "      <th>children</th>\n",
       "      <th>region</th>\n",
       "      <th>charges</th>\n",
       "    </tr>\n",
       "  </thead>\n",
       "  <tbody>\n",
       "    <tr>\n",
       "      <th>0</th>\n",
       "      <td>no</td>\n",
       "      <td>1064</td>\n",
       "      <td>1064</td>\n",
       "      <td>1064</td>\n",
       "      <td>1064</td>\n",
       "      <td>1064</td>\n",
       "      <td>1064</td>\n",
       "    </tr>\n",
       "    <tr>\n",
       "      <th>1</th>\n",
       "      <td>yes</td>\n",
       "      <td>274</td>\n",
       "      <td>274</td>\n",
       "      <td>274</td>\n",
       "      <td>274</td>\n",
       "      <td>274</td>\n",
       "      <td>274</td>\n",
       "    </tr>\n",
       "  </tbody>\n",
       "</table>\n",
       "</div>"
      ],
      "text/plain": [
       "  smoker   age   sex   bmi  children  region  charges\n",
       "0     no  1064  1064  1064      1064    1064     1064\n",
       "1    yes   274   274   274       274     274      274"
      ]
     },
     "execution_count": 8,
     "metadata": {},
     "output_type": "execute_result"
    }
   ],
   "source": [
    "smoker_count_df = data.groupby('smoker').count().reset_index()\n",
    "smoker_count_df"
   ]
  },
  {
   "cell_type": "markdown",
   "metadata": {},
   "source": [
    "Lastly, we will check to see the number of males and females surveyed. "
   ]
  },
  {
   "cell_type": "code",
   "execution_count": 9,
   "metadata": {},
   "outputs": [
    {
     "data": {
      "text/html": [
       "<div>\n",
       "<style scoped>\n",
       "    .dataframe tbody tr th:only-of-type {\n",
       "        vertical-align: middle;\n",
       "    }\n",
       "\n",
       "    .dataframe tbody tr th {\n",
       "        vertical-align: top;\n",
       "    }\n",
       "\n",
       "    .dataframe thead th {\n",
       "        text-align: right;\n",
       "    }\n",
       "</style>\n",
       "<table border=\"1\" class=\"dataframe\">\n",
       "  <thead>\n",
       "    <tr style=\"text-align: right;\">\n",
       "      <th></th>\n",
       "      <th>age</th>\n",
       "      <th>bmi</th>\n",
       "      <th>children</th>\n",
       "      <th>smoker</th>\n",
       "      <th>region</th>\n",
       "      <th>charges</th>\n",
       "    </tr>\n",
       "    <tr>\n",
       "      <th>sex</th>\n",
       "      <th></th>\n",
       "      <th></th>\n",
       "      <th></th>\n",
       "      <th></th>\n",
       "      <th></th>\n",
       "      <th></th>\n",
       "    </tr>\n",
       "  </thead>\n",
       "  <tbody>\n",
       "    <tr>\n",
       "      <th>female</th>\n",
       "      <td>662</td>\n",
       "      <td>662</td>\n",
       "      <td>662</td>\n",
       "      <td>662</td>\n",
       "      <td>662</td>\n",
       "      <td>662</td>\n",
       "    </tr>\n",
       "    <tr>\n",
       "      <th>male</th>\n",
       "      <td>676</td>\n",
       "      <td>676</td>\n",
       "      <td>676</td>\n",
       "      <td>676</td>\n",
       "      <td>676</td>\n",
       "      <td>676</td>\n",
       "    </tr>\n",
       "  </tbody>\n",
       "</table>\n",
       "</div>"
      ],
      "text/plain": [
       "        age  bmi  children  smoker  region  charges\n",
       "sex                                                \n",
       "female  662  662       662     662     662      662\n",
       "male    676  676       676     676     676      676"
      ]
     },
     "execution_count": 9,
     "metadata": {},
     "output_type": "execute_result"
    }
   ],
   "source": [
    "sex_count_df = data.groupby('sex').count()\n",
    "sex_count_df"
   ]
  },
  {
   "cell_type": "markdown",
   "metadata": {},
   "source": [
    "The following visualization summarizes the counts of the categorical data. We can see that the number of people from different regions and sexes were sampled relatively evenly. The number of smokers sampled is much smaller than the number of non-smokers sampled.  "
   ]
  },
  {
   "cell_type": "code",
   "execution_count": 10,
   "metadata": {},
   "outputs": [
    {
     "data": {
      "application/vnd.vegalite.v4+json": {
       "$schema": "https://vega.github.io/schema/vega-lite/v4.8.1.json",
       "columns": 2,
       "config": {
        "view": {
         "continuousHeight": 300,
         "continuousWidth": 400
        }
       },
       "repeat": [
        "Sex",
        "Smoker",
        "Region"
       ],
       "spec": {
        "data": {
         "url": "http://localhost:24524/f8662b1c2d9fbdd14c3505502d6f186e.json"
        },
        "encoding": {
         "x": {
          "aggregate": "count",
          "title": "Number of Policy Holders",
          "type": "quantitative"
         },
         "y": {
          "field": {
           "repeat": "repeat"
          },
          "type": "nominal"
         }
        },
        "mark": "bar"
       }
      },
      "image/png": "[encoded data removed]",
      "text/plain": [
       "<VegaLite 4 object>\n",
       "\n",
       "If you see this message, it means the renderer has not been properly enabled\n",
       "for the frontend that you are using. For more information, see\n",
       "https://altair-viz.github.io/user_guide/troubleshooting.html\n"
      ]
     },
     "execution_count": 10,
     "metadata": {},
     "output_type": "execute_result"
    }
   ],
   "source": [
    "\n",
    "data_cap = data.copy()\n",
    "# Rename columns to have capital letter. \n",
    "data_cap.rename(columns= {'sex': 'Sex', 'smoker':'Smoker', 'region':'Region', 'age': 'Age', 'children':'Children', 'bmi':'BMI', 'charges':'Charges'}, inplace=True)\n",
    "# Capitalize string data.\n",
    "data_cap['Sex'] = data_cap['Sex'].map(lambda x: x.capitalize())\n",
    "data_cap['Smoker'] = data_cap['Smoker'].map(lambda x: x.capitalize()) \n",
    "data_cap['Region'] = data_cap['Region'].map(lambda x: x.capitalize())\n",
    "# Create bar charts of counts of categorical data.\n",
    "alt.Chart(data_cap).mark_bar().encode(\n",
    "    alt.X('count()', title='Number of Policy Holders'), alt.Y(alt.repeat(), type='nominal')).repeat(['Sex', 'Smoker', 'Region'], columns=2)\n"
   ]
  },
  {
   "cell_type": "markdown",
   "metadata": {},
   "source": [
    "The primary variable of interest here is the `charges` of the individuals based on their other characteristics. One way to see the relationship between the categorical data and the `charges` is the look at the summary statistics for `charges` for each group of the categories."
   ]
  },
  {
   "cell_type": "markdown",
   "metadata": {},
   "source": [
    "It is clear that the average `charges` of smokers is much higher than non-smokers. "
   ]
  },
  {
   "cell_type": "code",
   "execution_count": 11,
   "metadata": {},
   "outputs": [
    {
     "data": {
      "text/html": [
       "<div>\n",
       "<style scoped>\n",
       "    .dataframe tbody tr th:only-of-type {\n",
       "        vertical-align: middle;\n",
       "    }\n",
       "\n",
       "    .dataframe tbody tr th {\n",
       "        vertical-align: top;\n",
       "    }\n",
       "\n",
       "    .dataframe thead tr th {\n",
       "        text-align: left;\n",
       "    }\n",
       "\n",
       "    .dataframe thead tr:last-of-type th {\n",
       "        text-align: right;\n",
       "    }\n",
       "</style>\n",
       "<table border=\"1\" class=\"dataframe\">\n",
       "  <thead>\n",
       "    <tr>\n",
       "      <th></th>\n",
       "      <th colspan=\"4\" halign=\"left\">Charges</th>\n",
       "    </tr>\n",
       "    <tr>\n",
       "      <th></th>\n",
       "      <th>mean</th>\n",
       "      <th>median</th>\n",
       "      <th>min</th>\n",
       "      <th>max</th>\n",
       "    </tr>\n",
       "    <tr>\n",
       "      <th>Smoker</th>\n",
       "      <th></th>\n",
       "      <th></th>\n",
       "      <th></th>\n",
       "      <th></th>\n",
       "    </tr>\n",
       "  </thead>\n",
       "  <tbody>\n",
       "    <tr>\n",
       "      <th>No</th>\n",
       "      <td>8434.268298</td>\n",
       "      <td>7345.40530</td>\n",
       "      <td>1121.8739</td>\n",
       "      <td>36910.60803</td>\n",
       "    </tr>\n",
       "    <tr>\n",
       "      <th>Yes</th>\n",
       "      <td>32050.231832</td>\n",
       "      <td>34456.34845</td>\n",
       "      <td>12829.4551</td>\n",
       "      <td>63770.42801</td>\n",
       "    </tr>\n",
       "  </tbody>\n",
       "</table>\n",
       "</div>"
      ],
      "text/plain": [
       "             Charges                                      \n",
       "                mean       median         min          max\n",
       "Smoker                                                    \n",
       "No       8434.268298   7345.40530   1121.8739  36910.60803\n",
       "Yes     32050.231832  34456.34845  12829.4551  63770.42801"
      ]
     },
     "execution_count": 11,
     "metadata": {},
     "output_type": "execute_result"
    }
   ],
   "source": [
    "\n",
    "data_cap.groupby(['Smoker']).agg({'Charges': ['mean', 'median', 'min', 'max']})"
   ]
  },
  {
   "cell_type": "markdown",
   "metadata": {},
   "source": [
    "The average `charges` are not very different for the females and males. "
   ]
  },
  {
   "cell_type": "code",
   "execution_count": 12,
   "metadata": {},
   "outputs": [
    {
     "data": {
      "text/html": [
       "<div>\n",
       "<style scoped>\n",
       "    .dataframe tbody tr th:only-of-type {\n",
       "        vertical-align: middle;\n",
       "    }\n",
       "\n",
       "    .dataframe tbody tr th {\n",
       "        vertical-align: top;\n",
       "    }\n",
       "\n",
       "    .dataframe thead tr th {\n",
       "        text-align: left;\n",
       "    }\n",
       "\n",
       "    .dataframe thead tr:last-of-type th {\n",
       "        text-align: right;\n",
       "    }\n",
       "</style>\n",
       "<table border=\"1\" class=\"dataframe\">\n",
       "  <thead>\n",
       "    <tr>\n",
       "      <th></th>\n",
       "      <th colspan=\"4\" halign=\"left\">Charges</th>\n",
       "    </tr>\n",
       "    <tr>\n",
       "      <th></th>\n",
       "      <th>mean</th>\n",
       "      <th>median</th>\n",
       "      <th>min</th>\n",
       "      <th>max</th>\n",
       "    </tr>\n",
       "    <tr>\n",
       "      <th>Sex</th>\n",
       "      <th></th>\n",
       "      <th></th>\n",
       "      <th></th>\n",
       "      <th></th>\n",
       "    </tr>\n",
       "  </thead>\n",
       "  <tbody>\n",
       "    <tr>\n",
       "      <th>Female</th>\n",
       "      <td>12569.578844</td>\n",
       "      <td>9412.96250</td>\n",
       "      <td>1607.5101</td>\n",
       "      <td>63770.42801</td>\n",
       "    </tr>\n",
       "    <tr>\n",
       "      <th>Male</th>\n",
       "      <td>13956.751178</td>\n",
       "      <td>9369.61575</td>\n",
       "      <td>1121.8739</td>\n",
       "      <td>62592.87309</td>\n",
       "    </tr>\n",
       "  </tbody>\n",
       "</table>\n",
       "</div>"
      ],
      "text/plain": [
       "             Charges                                    \n",
       "                mean      median        min          max\n",
       "Sex                                                     \n",
       "Female  12569.578844  9412.96250  1607.5101  63770.42801\n",
       "Male    13956.751178  9369.61575  1121.8739  62592.87309"
      ]
     },
     "execution_count": 12,
     "metadata": {},
     "output_type": "execute_result"
    }
   ],
   "source": [
    "data_cap.groupby(['Sex']).agg({'Charges': ['mean', 'median', 'min', 'max']})"
   ]
  },
  {
   "cell_type": "markdown",
   "metadata": {},
   "source": [
    "The average charges does seem to be slightly higher for the `Southeast` region compared to the other regions. "
   ]
  },
  {
   "cell_type": "code",
   "execution_count": 13,
   "metadata": {},
   "outputs": [
    {
     "data": {
      "text/html": [
       "<div>\n",
       "<style scoped>\n",
       "    .dataframe tbody tr th:only-of-type {\n",
       "        vertical-align: middle;\n",
       "    }\n",
       "\n",
       "    .dataframe tbody tr th {\n",
       "        vertical-align: top;\n",
       "    }\n",
       "\n",
       "    .dataframe thead tr th {\n",
       "        text-align: left;\n",
       "    }\n",
       "\n",
       "    .dataframe thead tr:last-of-type th {\n",
       "        text-align: right;\n",
       "    }\n",
       "</style>\n",
       "<table border=\"1\" class=\"dataframe\">\n",
       "  <thead>\n",
       "    <tr>\n",
       "      <th></th>\n",
       "      <th colspan=\"4\" halign=\"left\">Charges</th>\n",
       "    </tr>\n",
       "    <tr>\n",
       "      <th></th>\n",
       "      <th>mean</th>\n",
       "      <th>median</th>\n",
       "      <th>min</th>\n",
       "      <th>max</th>\n",
       "    </tr>\n",
       "    <tr>\n",
       "      <th>Region</th>\n",
       "      <th></th>\n",
       "      <th></th>\n",
       "      <th></th>\n",
       "      <th></th>\n",
       "    </tr>\n",
       "  </thead>\n",
       "  <tbody>\n",
       "    <tr>\n",
       "      <th>Northeast</th>\n",
       "      <td>13406.384516</td>\n",
       "      <td>10057.652025</td>\n",
       "      <td>1694.7964</td>\n",
       "      <td>58571.07448</td>\n",
       "    </tr>\n",
       "    <tr>\n",
       "      <th>Northwest</th>\n",
       "      <td>12417.575374</td>\n",
       "      <td>8965.795750</td>\n",
       "      <td>1621.3402</td>\n",
       "      <td>60021.39897</td>\n",
       "    </tr>\n",
       "    <tr>\n",
       "      <th>Southeast</th>\n",
       "      <td>14735.411438</td>\n",
       "      <td>9294.131950</td>\n",
       "      <td>1121.8739</td>\n",
       "      <td>63770.42801</td>\n",
       "    </tr>\n",
       "    <tr>\n",
       "      <th>Southwest</th>\n",
       "      <td>12346.937377</td>\n",
       "      <td>8798.593000</td>\n",
       "      <td>1241.5650</td>\n",
       "      <td>52590.82939</td>\n",
       "    </tr>\n",
       "  </tbody>\n",
       "</table>\n",
       "</div>"
      ],
      "text/plain": [
       "                Charges                                      \n",
       "                   mean        median        min          max\n",
       "Region                                                       \n",
       "Northeast  13406.384516  10057.652025  1694.7964  58571.07448\n",
       "Northwest  12417.575374   8965.795750  1621.3402  60021.39897\n",
       "Southeast  14735.411438   9294.131950  1121.8739  63770.42801\n",
       "Southwest  12346.937377   8798.593000  1241.5650  52590.82939"
      ]
     },
     "execution_count": 13,
     "metadata": {},
     "output_type": "execute_result"
    }
   ],
   "source": [
    "data_cap.groupby(['Region']).agg({'Charges': ['mean', 'median', 'min', 'max']})"
   ]
  },
  {
   "cell_type": "markdown",
   "metadata": {},
   "source": [
    "## Research Question #1 (answered in this project):\n",
    "\n",
    "Charges billed by health insurance companies are a reflection of the health and wellbeing of specific demographics of the population.\n",
    "\n",
    "Does a person's age, smoking status, and BMI, which are known to affect a person's health, influence the charges billed by health insurance companies?\n",
    "\n",
    "Furthermore, are there are any differences in charges in each region when viewing the data sorted by region and sex?\n",
    "- This will help to determine if there are variations in policy in each region when it comes to how they treat the different sexes. \n",
    "\n",
    "\n",
    "\n"
   ]
  },
  {
   "cell_type": "markdown",
   "metadata": {},
   "source": [
    "## Data Wrangling and Data Visualizations for Research Question #1:"
   ]
  },
  {
   "cell_type": "code",
   "execution_count": 14,
   "metadata": {},
   "outputs": [],
   "source": [
    "data_ns = data[data['smoker'] == 'no']\n",
    "col_names_list = ['age','bmi','children','charges']"
   ]
  },
  {
   "cell_type": "code",
   "execution_count": 15,
   "metadata": {},
   "outputs": [
    {
     "name": "stderr",
     "output_type": "stream",
     "text": [
      "<ipython-input-15-7988c72b6491>:2: SettingWithCopyWarning: \n",
      "A value is trying to be set on a copy of a slice from a DataFrame.\n",
      "Try using .loc[row_indexer,col_indexer] = value instead\n",
      "\n",
      "See the caveats in the documentation: https://pandas.pydata.org/pandas-docs/stable/user_guide/indexing.html#returning-a-view-versus-a-copy\n",
      "  data_ns['sex'] = data_ns['sex'].map(lambda x: x.capitalize())\n",
      "<ipython-input-15-7988c72b6491>:3: SettingWithCopyWarning: \n",
      "A value is trying to be set on a copy of a slice from a DataFrame.\n",
      "Try using .loc[row_indexer,col_indexer] = value instead\n",
      "\n",
      "See the caveats in the documentation: https://pandas.pydata.org/pandas-docs/stable/user_guide/indexing.html#returning-a-view-versus-a-copy\n",
      "  data_ns['smoker'] = data_ns['smoker'].map(lambda x: x.capitalize())\n",
      "<ipython-input-15-7988c72b6491>:4: SettingWithCopyWarning: \n",
      "A value is trying to be set on a copy of a slice from a DataFrame.\n",
      "Try using .loc[row_indexer,col_indexer] = value instead\n",
      "\n",
      "See the caveats in the documentation: https://pandas.pydata.org/pandas-docs/stable/user_guide/indexing.html#returning-a-view-versus-a-copy\n",
      "  data_ns['region'] = data_ns['region'].map(lambda x: x.capitalize())\n"
     ]
    },
    {
     "data": {
      "application/vnd.vegalite.v4+json": {
       "$schema": "https://vega.github.io/schema/vega-lite/v4.8.1.json",
       "config": {
        "axis": {
         "labelFontSize": 12,
         "titleFontSize": 12
        },
        "view": {
         "continuousHeight": 300,
         "continuousWidth": 400
        }
       },
       "data": {
        "url": "http://localhost:24524/03a30b79f74076ca1d6320ac08fccb36.json"
       },
       "encoding": {
        "color": {
         "field": "sex",
         "title": "Sex",
         "type": "nominal"
        },
        "column": {
         "field": "region",
         "title": "Region",
         "type": "nominal"
        },
        "x": {
         "axis": {
          "grid": false,
          "title": "Age (Years)"
         },
         "bin": {
          "maxbins": 20
         },
         "field": "age",
         "type": "quantitative"
        },
        "y": {
         "aggregate": "mean",
         "axis": {
          "grid": false,
          "title": "Mean annual charges"
         },
         "field": "charges",
         "type": "quantitative"
        }
       },
       "height": 128,
       "mark": "line",
       "width": 240
      },
      "image/png": "[encoded data removed]",
      "text/plain": [
       "<VegaLite 4 object>\n",
       "\n",
       "If you see this message, it means the renderer has not been properly enabled\n",
       "for the frontend that you are using. For more information, see\n",
       "https://altair-viz.github.io/user_guide/troubleshooting.html\n"
      ]
     },
     "execution_count": 15,
     "metadata": {},
     "output_type": "execute_result"
    }
   ],
   "source": [
    "# Capitalize string data so labels will be capitalized\n",
    "data_ns['sex'] = data_ns['sex'].map(lambda x: x.capitalize())\n",
    "data_ns['smoker'] = data_ns['smoker'].map(lambda x: x.capitalize()) \n",
    "data_ns['region'] = data_ns['region'].map(lambda x: x.capitalize())\n",
    "\n",
    "\n",
    "(alt.Chart(data_ns).mark_line().encode(\n",
    "   x = alt.X('age', bin=alt.Bin(maxbins=20), axis=alt.Axis(title='Age (Years)', grid=False)),\n",
    "   y = alt.Y('mean(charges)', axis=alt.Axis(title='Mean annual charges', grid=False)),\n",
    "   color = alt.Color('sex', title='Sex'),\n",
    "   column = alt.Column('region', title='Region')\n",
    ").properties(\n",
    "    height = 128,\n",
    "    width = 240\n",
    ").configure_axis(\n",
    "    labelFontSize=12,\n",
    "    titleFontSize=12\n",
    "\n",
    "))"
   ]
  },
  {
   "cell_type": "markdown",
   "metadata": {},
   "source": [
    "The plots for the average annual charge filed by insurance companies in each region according to age and sex indicate that there is little variation in healthcare costs between the sexes. Started at the age of 18, the average American is expected have \\\\$4,000 in medical expenses, which will increase by \\\\$280 each year. If we extrapolate from this data, we can determine that by the time they die at the age of 79 (the mean life expectancy in the US), it is expected that insurance companies will file on average over \\\\$21,000 to pay for their healthcare. This adds up to a total of over \\\\$765,000 per individual in their lifetime.\n",
    "\n",
    "## Research Question #2 (NOT answered in this project):\n",
    "\n",
    "Due to the high cost of health care in the US, most Americans rely on health insurance that is provided through their work. Many individuals, particularly in the lower socioeconomic class, either lack significant coverage or have difficulty paying insurance premiums. These individuals may delay or forgo treatment until they are able to afford it.\n",
    "\n",
    "How often do those in the lower socioeconomic class forgo medical treatment due to lack of health insurance coverage or inability to pay health insurance premiums?\n",
    "- To investigate this question, we would need to include annual household income, number of dependents, and the number of health claims per year. We could then see how income affects the number of health claims per year. \n",
    "\n",
    "## Research Question #3 (NOT answered in this project):\n",
    "Does smoking tobacco have the same effect on an individual's health regardless of their age?\n",
    "- To investigate this, we would require the length of time that an individual has smoked for, the amount of cigarettes they smoked each day and the number of medical visits or health issues they have had."
   ]
  },
  {
   "cell_type": "code",
   "execution_count": 16,
   "metadata": {},
   "outputs": [
    {
     "data": {
      "application/vnd.vegalite.v4+json": {
       "$schema": "https://vega.github.io/schema/vega-lite/v4.8.1.json",
       "config": {
        "axis": {
         "labelFontSize": 12,
         "titleFontSize": 12
        },
        "view": {
         "continuousHeight": 300,
         "continuousWidth": 400
        }
       },
       "data": {
        "url": "http://localhost:24524/917e02cd35a5d1023da881e52b404608.json"
       },
       "encoding": {
        "color": {
         "field": "smoker",
         "title": "Smoker",
         "type": "nominal"
        },
        "x": {
         "axis": {
          "grid": false,
          "title": "Age (years)"
         },
         "bin": {
          "maxbins": 20
         },
         "field": "age",
         "type": "quantitative"
        },
        "y": {
         "aggregate": "mean",
         "axis": {
          "format": "$~s",
          "grid": false,
          "title": "Mean Annual Charges"
         },
         "field": "charges",
         "type": "quantitative"
        }
       },
       "height": 128,
       "mark": "line",
       "title": {
        "dy": -15,
        "text": "Effect of Smoking on Health Insurance Charges"
       },
       "width": 240
      },
      "image/png": "[encoded data removed]",
      "text/plain": [
       "<VegaLite 4 object>\n",
       "\n",
       "If you see this message, it means the renderer has not been properly enabled\n",
       "for the frontend that you are using. For more information, see\n",
       "https://altair-viz.github.io/user_guide/troubleshooting.html\n"
      ]
     },
     "execution_count": 16,
     "metadata": {},
     "output_type": "execute_result"
    }
   ],
   "source": [
    "# Capitalize smoker column strings\n",
    "data['smoker'] = data['smoker'].map(lambda x: x.capitalize())\n",
    "\n",
    "# Create chart showing average \n",
    "(alt.Chart(data, title=alt.TitleParams(text=\"Effect of Smoking on Health Insurance Charges\", dy = -15)).mark_line().encode(\n",
    "   x = alt.X('age', bin=alt.Bin(maxbins=20), axis=alt.Axis(title='Age (years)', grid=False)),\n",
    "   y = alt.Y('mean(charges)', axis=alt.Axis(title='Mean Annual Charges', format='$~s', grid=False)),\n",
    "   color = alt.Color('smoker', title='Smoker')\n",
    ").properties(\n",
    "    height = 128,\n",
    "    width = 240\n",
    ").configure_axis(\n",
    "    labelFontSize=12,\n",
    "    titleFontSize=12\n",
    "\n",
    "))"
   ]
  },
  {
   "cell_type": "markdown",
   "metadata": {},
   "source": [
    "As expected, smoking tobacco is associated with an increase healthcare costs. For each age group, smoking increases health claims by roughly \\\\$23,000 per year.\n",
    "\n",
    "We were surprised to see that the magnitude of increase in costs of these claims is uniform for all age groups. This suggests that smoking negatively affects the health of individuals regardless of their age. \n",
    " "
   ]
  },
  {
   "cell_type": "code",
   "execution_count": 17,
   "metadata": {},
   "outputs": [],
   "source": [
    "data_age_corrected = data.copy()"
   ]
  },
  {
   "cell_type": "code",
   "execution_count": 18,
   "metadata": {},
   "outputs": [],
   "source": [
    "# Correcting for age by subtracting the annual average increase in health costs\n",
    "# caused by smoking (roughly $22000) from each age group. \n",
    "data_age_corrected['charges'] = data_age_corrected['charges']-((data_age_corrected['age']-18)*280)\n",
    "data_age_corrected.loc[data_age_corrected['smoker'] == 'Yes', 'charges'] = data_age_corrected.loc[data_age_corrected['smoker'] == 'Yes', 'charges'] - 23000"
   ]
  },
  {
   "cell_type": "code",
   "execution_count": 19,
   "metadata": {},
   "outputs": [
    {
     "data": {
      "application/vnd.vegalite.v4+json": {
       "$schema": "https://vega.github.io/schema/vega-lite/v4.8.1.json",
       "config": {
        "axis": {
         "labelFontSize": 12,
         "titleFontSize": 12
        },
        "view": {
         "continuousHeight": 300,
         "continuousWidth": 400
        }
       },
       "data": {
        "url": "http://localhost:24524/b11f757b7a06e852f10b813bdfa88871.json"
       },
       "encoding": {
        "color": {
         "field": "smoker",
         "title": "Smoker",
         "type": "nominal"
        },
        "x": {
         "axis": {
          "grid": false,
          "title": "Age (years)"
         },
         "bin": {
          "maxbins": 20
         },
         "field": "age",
         "type": "quantitative"
        },
        "y": {
         "aggregate": "mean",
         "axis": {
          "format": "$~s",
          "grid": false,
          "title": "Mean annual charges (corrected)"
         },
         "field": "charges",
         "scale": {
          "domain": [
           0,
           45000
          ]
         },
         "type": "quantitative"
        }
       },
       "height": 200,
       "mark": "line",
       "title": {
        "dy": -20,
        "text": "Health Insurance Charges Corrected for Smoking Status"
       },
       "width": 240
      },
      "image/png": "[encoded data removed]",
      "text/plain": [
       "<VegaLite 4 object>\n",
       "\n",
       "If you see this message, it means the renderer has not been properly enabled\n",
       "for the frontend that you are using. For more information, see\n",
       "https://altair-viz.github.io/user_guide/troubleshooting.html\n"
      ]
     },
     "execution_count": 19,
     "metadata": {},
     "output_type": "execute_result"
    }
   ],
   "source": [
    "# Create chart showing health insurance charges by age if we correct for smoking status by subtracting $23000 from each individual who smokes. \n",
    "(alt.Chart(data_age_corrected, title=alt.TitleParams(text='Health Insurance Charges Corrected for Smoking Status', dy=-20)).mark_line().encode(\n",
    "   x = alt.X('age', bin=alt.Bin(maxbins=20), axis=alt.Axis(title='Age (years)', grid=False)),\n",
    "   y = alt.Y('mean(charges)',scale=alt.Scale(domain=(0, 45000)), axis=alt.Axis(title='Mean annual charges (corrected)', grid=False, format='$~s')),\n",
    "   color = alt.Color('smoker', title='Smoker')\n",
    ").properties(\n",
    "    height = 200,\n",
    "    width = 240\n",
    ").configure_axis(\n",
    "    labelFontSize=12,\n",
    "    titleFontSize=12\n",
    "\n",
    "))"
   ]
  },
  {
   "cell_type": "markdown",
   "metadata": {},
   "source": [
    "As we can see in the plot above, if we correct for age and smoking by subtracting the average increase in healthcare cost caused by smoking (about \\\\$23,000) from each individual who smokes, we can see that according to this data, smoking has the same effect on healthcare costs no matter the age (within 18-64 years old). If the lines were obviously divergent, we would know that smoking is having a larger effect on healthcare costs at certain ages, which is not the case here.  "
   ]
  },
  {
   "cell_type": "code",
   "execution_count": 20,
   "metadata": {},
   "outputs": [
    {
     "data": {
      "application/vnd.vegalite.v4+json": {
       "$schema": "https://vega.github.io/schema/vega-lite/v4.8.1.json",
       "config": {
        "axis": {
         "labelFontSize": 12,
         "titleFontSize": 12
        },
        "view": {
         "continuousHeight": 300,
         "continuousWidth": 400
        }
       },
       "data": {
        "url": "http://localhost:24524/917e02cd35a5d1023da881e52b404608.json"
       },
       "encoding": {
        "color": {
         "aggregate": "mean",
         "field": "charges",
         "legend": {
          "format": "$~s",
          "title": "Mean Annual Charges"
         },
         "scale": {
          "scheme": "lightmulti",
          "zero": true
         },
         "type": "quantitative"
        },
        "column": {
         "field": "smoker",
         "title": "Smoker",
         "type": "nominal"
        },
        "x": {
         "axis": {
          "grid": false,
          "title": "BMI"
         },
         "bin": {
          "maxbins": 20
         },
         "field": "bmi",
         "type": "quantitative"
        },
        "y": {
         "aggregate": "mean",
         "axis": {
          "format": "$~s",
          "grid": false,
          "title": "Mean Annual Charges"
         },
         "field": "charges",
         "type": "quantitative"
        }
       },
       "height": 128,
       "mark": "bar",
       "title": {
        "dy": -20,
        "text": "Healthcare Cost According to BMI and Smoking Status"
       },
       "width": 240
      },
      "image/png": "[encoded data removed]",
      "text/plain": [
       "<VegaLite 4 object>\n",
       "\n",
       "If you see this message, it means the renderer has not been properly enabled\n",
       "for the frontend that you are using. For more information, see\n",
       "https://altair-viz.github.io/user_guide/troubleshooting.html\n"
      ]
     },
     "execution_count": 20,
     "metadata": {},
     "output_type": "execute_result"
    }
   ],
   "source": [
    "(alt.Chart(data, title=alt.TitleParams(text='Healthcare Cost According to BMI and Smoking Status', dy=-20)).mark_bar().encode(\n",
    "   x = alt.X('bmi', bin=alt.Bin(maxbins=20), axis=alt.Axis(title='BMI', grid=False)),\n",
    "   y = alt.Y('mean(charges)', axis=alt.Axis(title='Mean Annual Charges', grid=False, format='$~s')),\n",
    "   column = alt.Column('smoker', title='Smoker'),\n",
    "   color=alt.Color('mean(charges)', scale=alt.Scale(scheme='lightmulti',zero = True), legend=alt.Legend(title=\"Mean Annual Charges\", format='$~s'))\n",
    ").properties(\n",
    "    height = 128,\n",
    "    width = 240\n",
    ").configure_axis(\n",
    "    labelFontSize=12,\n",
    "    titleFontSize=12\n",
    "\n",
    "))"
   ]
  },
  {
   "cell_type": "markdown",
   "metadata": {},
   "source": [
    "As previously mentioned, medical expenses for smokers are significantly higher than non-smokers. What is interesting is that if you smoke, medical expenses are reflective of the level of your BMI. If you smoke and have a BMI over 30, your annual medical expenses will be on average over \\\\$30,000 per year, contrary to the \\\\$18,000 annually if your BMI is less than 30. For non-smokers, medical costs remain below \\\\$5,000 regardless of the BMI. What is interesting is that BMI effect on medical expenses only applies to smokers, and that there is a sharp distinction between smokers average annual charges based on their BMI (BMI of greater than or less than 30). "
   ]
  },
  {
   "cell_type": "markdown",
   "metadata": {},
   "source": [
    "## Research Question #4 (answered in this project):\n",
    "Why are the average charges in the Southeast region higher than for the other regions? What can we learn from the data that makes the Southeast region unique?"
   ]
  },
  {
   "cell_type": "markdown",
   "metadata": {},
   "source": [
    "## Data Wrangling and Data Visualization for Question #4:"
   ]
  },
  {
   "cell_type": "code",
   "execution_count": 21,
   "metadata": {},
   "outputs": [],
   "source": [
    "# Filtering dataframe to have only obese people. \n",
    "data_high_bmi = data_cap[data_cap['BMI'] >= 30].reset_index(drop=True)\n",
    "bmi_reg = data_high_bmi.groupby(['Region']).agg({'BMI': 'count'}).reset_index()\n",
    "reg_counts = data_cap.groupby('Region')['BMI'].count().reset_index(drop=True)\n",
    "reg_counts\n",
    "# Getting ratio of Obese:total people in each region. \n",
    "bmi_reg['obese_ratio'] = round(bmi_reg['BMI']/reg_counts, 2)\n",
    "\n",
    "\n",
    "\n",
    "\n"
   ]
  },
  {
   "cell_type": "code",
   "execution_count": 22,
   "metadata": {},
   "outputs": [],
   "source": [
    "# Create chart to show proportion of obese people:total people in each region. \n",
    "bmi_chart = alt.Chart(bmi_reg, title=alt.TitleParams(text='Percentage of Obese People in Regions', fontSize=15, dy=-20)).mark_bar(opacity=0.8, cornerRadius=3).encode(alt.Y('obese_ratio', axis=alt.Axis(format='%'), title=None), alt.X('Region', title=None, axis=alt.Axis(labelAngle=0)),\n",
    "    color = alt.condition(alt.datum.Region == 'Southeast', alt.value('orange'), alt.value('steelblue'))).properties(height=350, width=250)\n"
   ]
  },
  {
   "cell_type": "code",
   "execution_count": 23,
   "metadata": {},
   "outputs": [],
   "source": [
    "# Filter df to see number of smokers and non-smokers by region\n",
    "smoke_ratio = data_cap.groupby(['Region', 'Smoker']).count()\n",
    "new = smoke_ratio[['Age']]\n",
    "final = new.reset_index()\n",
    "# Create array of regions\n",
    "region = final.Region.unique()\n",
    "# Create arrays of 'yes' smokers and `no' smokers in each region.\n",
    "smoke_yes = final.loc[final.Smoker == 'Yes', 'Age'].reset_index(drop=True)\n",
    "smoke_no = final.loc[final.Smoker == 'No', 'Age'].reset_index(drop=True)\n",
    "\n",
    "# Create new dataframe with a column showing ratio of smokers:total people in each region. \n",
    "smoke_reg_df = pd.DataFrame({'Region': region, 'Smoker': smoke_yes, 'Nonsmoker': smoke_no})\n",
    "smoke_reg_df['Smoker_ratio'] = round(smoke_reg_df.Smoker/(smoke_reg_df.Nonsmoker + smoke_reg_df.Smoker), 2)\n",
    "\n",
    "\n"
   ]
  },
  {
   "cell_type": "code",
   "execution_count": 24,
   "metadata": {},
   "outputs": [],
   "source": [
    "# Create chart to show proportion of smokers:total people in each region. \n",
    "smoke_chart = alt.Chart(smoke_reg_df, title=alt.TitleParams(text='Percentage of Smokers in Regions', fontSize=16, dy=-20)).mark_bar(opacity=0.8, cornerRadius=3).encode(alt.X('Region', title=None, axis=alt.Axis(labelAngle=0)), alt.Y('Smoker_ratio', axis=alt.Axis(format='%'), title=None),\n",
    "color = alt.condition(alt.datum.Region == 'Southeast', alt.value('orange'), alt.value('steelblue'))).properties(height=350, width=250)"
   ]
  },
  {
   "cell_type": "code",
   "execution_count": 25,
   "metadata": {},
   "outputs": [
    {
     "data": {
      "application/vnd.vegalite.v4+json": {
       "$schema": "https://vega.github.io/schema/vega-lite/v4.8.1.json",
       "config": {
        "view": {
         "continuousHeight": 300,
         "continuousWidth": 400
        }
       },
       "spacing": 100,
       "vconcat": [
        {
         "data": {
          "url": "http://localhost:24524/158a06643edc556e9d3fd203d486052f.json"
         },
         "encoding": {
          "color": {
           "condition": {
            "test": "(datum.Region === 'Southeast')",
            "value": "orange"
           },
           "value": "steelblue"
          },
          "x": {
           "axis": {
            "labelAngle": 0
           },
           "field": "Region",
           "title": null,
           "type": "nominal"
          },
          "y": {
           "axis": {
            "format": "%"
           },
           "field": "obese_ratio",
           "title": null,
           "type": "quantitative"
          }
         },
         "height": 350,
         "mark": {
          "cornerRadius": 3,
          "opacity": 0.8,
          "type": "bar"
         },
         "title": {
          "dy": -20,
          "fontSize": 15,
          "text": "Percentage of Obese People in Regions"
         },
         "width": 250
        },
        {
         "data": {
          "url": "http://localhost:24524/5bc9149670c3fe519976a87e5f936231.json"
         },
         "encoding": {
          "color": {
           "condition": {
            "test": "(datum.Region === 'Southeast')",
            "value": "orange"
           },
           "value": "steelblue"
          },
          "x": {
           "axis": {
            "labelAngle": 0
           },
           "field": "Region",
           "title": null,
           "type": "nominal"
          },
          "y": {
           "axis": {
            "format": "%"
           },
           "field": "Smoker_ratio",
           "title": null,
           "type": "quantitative"
          }
         },
         "height": 350,
         "mark": {
          "cornerRadius": 3,
          "opacity": 0.8,
          "type": "bar"
         },
         "title": {
          "dy": -20,
          "fontSize": 16,
          "text": "Percentage of Smokers in Regions"
         },
         "width": 250
        }
       ]
      },
      "image/png": "[encoded data removed]",
      "text/plain": [
       "<VegaLite 4 object>\n",
       "\n",
       "If you see this message, it means the renderer has not been properly enabled\n",
       "for the frontend that you are using. For more information, see\n",
       "https://altair-viz.github.io/user_guide/troubleshooting.html\n"
      ]
     },
     "execution_count": 25,
     "metadata": {},
     "output_type": "execute_result"
    }
   ],
   "source": [
    "# Display both charts side by side. \n",
    "alt.VConcatChart(vconcat=(bmi_chart, smoke_chart), spacing=100)"
   ]
  },
  {
   "cell_type": "markdown",
   "metadata": {},
   "source": [
    "As we learned earlier, smokers with a BMI over 30 have exceptionally high medical costs compared to the rest of the sampled population. We can see from the charts above that those sampled in the Southeast region have a higher proportion of people that are obese (BMI $\\geq$ 30), and a higher proportion of people who smoke tobacco when compared to the other regions.  These unique features of the Southeast region are likely the cause of the increased medical costs seen here. "
   ]
  },
  {
   "cell_type": "markdown",
   "metadata": {},
   "source": [
    "## Summary and Conclusions:\n",
    "\n",
    "Throughout the analysis of this data, it became clear that certain characteristics of individuals have a large effect on the medical charges billed by their health insurance company. Those who smoke have much higher medical costs, and those who smoke and have a high BMI see a drastic increase in costs. Age is also an obvious factor in the healthcare costs of individuals. \n",
    "\n",
    "There are other factors that did not seem to influence the medical costs. It was interesting to note that even though some women would incur childbirth expenses, sex did not have any effect on medical costs. It was also surprising to see that the number of children/dependents on a plan was not highly correlated with medical costs. \n",
    "\n",
    "Although nothing can be done about aging, health insurance companies would be wise to focus efforts on smoking cessation and weight loss (or prevention of weight gain) if they wanted to reduce their annual healthcare bills. These efforts may be particularly fruitful in the Southeast Region of the country due to the high proportion of obese smokers in that region. \n",
    "\n",
    "\n",
    "\n"
   ]
  },
  {
   "cell_type": "code",
   "execution_count": null,
   "metadata": {},
   "outputs": [],
   "source": []
  }
 ],
 "metadata": {
  "kernelspec": {
   "display_name": "Python 3",
   "language": "python",
   "name": "python3"
  },
  "language_info": {
   "codemirror_mode": {
    "name": "ipython",
    "version": 3
   },
   "file_extension": ".py",
   "mimetype": "text/x-python",
   "name": "python",
   "nbconvert_exporter": "python",
   "pygments_lexer": "ipython3",
   "version": "3.8.3"
  }
 },
 "nbformat": 4,
 "nbformat_minor": 4
}
